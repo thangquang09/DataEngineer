{
 "cells": [
  {
   "cell_type": "markdown",
   "metadata": {},
   "source": [
    "# Largest Banks Project"
   ]
  },
  {
   "cell_type": "markdown",
   "metadata": {},
   "source": [
    "## Import Librabies"
   ]
  },
  {
   "cell_type": "code",
   "execution_count": 20,
   "metadata": {},
   "outputs": [],
   "source": [
    "#!python3 -m pip install -r requirement.txt"
   ]
  },
  {
   "cell_type": "code",
   "execution_count": 21,
   "metadata": {},
   "outputs": [],
   "source": [
    "import requests\n",
    "from bs4 import BeautifulSoup\n",
    "import pandas as pd\n",
    "import numpy as np\n",
    "import sqlite3\n",
    "from datetime import datetime"
   ]
  },
  {
   "cell_type": "code",
   "execution_count": 22,
   "metadata": {},
   "outputs": [],
   "source": [
    "url = 'https://web.archive.org/web/20230908091635/https://en.wikipedia.org/wiki/List_of_largest_banks'\n",
    "table_attbts_extract = [\"Name\", \"MC_USD_Billion\"]\n",
    "table_attbts_final = [\"Name\", \"MC_USD_Billion\", \"MC_GBP_Billion\", \"MC_EUR_Billion\", \"MC_INR_Billion\"]\n",
    "csv_path = \"./Largest_banks_data.csv\"\n",
    "db_name = \"Banks.db\"\n",
    "table_name = \"Largest_banks\"\n",
    "log_file = \"code_log.txt\""
   ]
  },
  {
   "cell_type": "markdown",
   "metadata": {},
   "source": [
    "### Download Exchange Rate"
   ]
  },
  {
   "cell_type": "markdown",
   "metadata": {},
   "source": [
    "#### Windows"
   ]
  },
  {
   "cell_type": "code",
   "execution_count": 23,
   "metadata": {},
   "outputs": [
    {
     "name": "stderr",
     "output_type": "stream",
     "text": [
      "  % Total    % Received % Xferd  Average Speed   Time    Time     Time  Current\n",
      "                                 Dload  Upload   Total   Spent    Left  Speed\n",
      "\n",
      "  0     0    0     0    0     0      0      0 --:--:-- --:--:-- --:--:--     0\n",
      "  0     0    0     0    0     0      0      0 --:--:-- --:--:-- --:--:--     0\n",
      "  0     0    0     0    0     0      0      0 --:--:--  0:00:01 --:--:--     0\n",
      "100    45  100    45    0     0     25      0  0:00:01  0:00:01 --:--:--    25\n"
     ]
    }
   ],
   "source": [
    "!curl -O https://cf-courses-data.s3.us.cloud-object-storage.appdomain.cloud/IBMSkillsNetwork-PY0221EN-Coursera/labs/v2/exchange_rate.csv"
   ]
  },
  {
   "cell_type": "markdown",
   "metadata": {},
   "source": [
    "#### Linux"
   ]
  },
  {
   "cell_type": "code",
   "execution_count": 24,
   "metadata": {},
   "outputs": [],
   "source": [
    "#!wget https://cf-courses-data.s3.us.cloud-object-storage.appdomain.cloud/IBMSkillsNetwork-PY0221EN-Coursera/labs/v2/exchange_rate.csv"
   ]
  },
  {
   "cell_type": "code",
   "execution_count": 25,
   "metadata": {},
   "outputs": [],
   "source": [
    "rate_df = pd.read_csv(\"exchange_rate.csv\")\n",
    "key = rate_df['Currency']\n",
    "value = rate_df['Rate']\n",
    "rate_dict = dict(zip(key, value))"
   ]
  },
  {
   "cell_type": "markdown",
   "metadata": {},
   "source": [
    "## Task 1"
   ]
  },
  {
   "cell_type": "code",
   "execution_count": 26,
   "metadata": {},
   "outputs": [],
   "source": [
    "def log_progress(message):\n",
    "    time_format = '%Y-%h-%d-%H:%M:%S'\n",
    "    now = datetime.now()\n",
    "    timestamp = now.strftime(time_format)\n",
    "    with open(log_file, 'a') as f:\n",
    "        f.write(timestamp + \" : \" + message + \"\\n\")"
   ]
  },
  {
   "cell_type": "markdown",
   "metadata": {},
   "source": [
    "## Task 2"
   ]
  },
  {
   "cell_type": "code",
   "execution_count": 27,
   "metadata": {},
   "outputs": [],
   "source": [
    "def extract(url, table_attbts):\n",
    "    page = requests.get(url)\n",
    "    data = BeautifulSoup(page.text, 'html.parser')\n",
    "    tables = data.find_all('tbody')\n",
    "    # tables[0] is the table we need to find\n",
    "    rows = tables[0].find_all('tr')\n",
    "    df = pd.DataFrame(columns=table_attbts_extract)\n",
    "    for row in rows:\n",
    "        col = row.find_all('td')\n",
    "        if(len(col) != 0):\n",
    "            name, market_cap = col[1].text.strip(), col[2].text.strip()\n",
    "            # print(name, market_cap, sep = \"\\t\")\n",
    "            data_dict = {table_attbts_extract[0]: name, table_attbts_extract[1]: market_cap}\n",
    "            per_df = pd.DataFrame(data_dict, index=[0])\n",
    "            df = pd.concat([df, per_df], ignore_index=True)\n",
    "\n",
    "    return df"
   ]
  },
  {
   "cell_type": "code",
   "execution_count": 34,
   "metadata": {},
   "outputs": [],
   "source": [
    "banks_df = extract(url, table_attbts_extract)"
   ]
  },
  {
   "cell_type": "code",
   "execution_count": 35,
   "metadata": {},
   "outputs": [
    {
     "data": {
      "text/html": [
       "<div>\n",
       "<style scoped>\n",
       "    .dataframe tbody tr th:only-of-type {\n",
       "        vertical-align: middle;\n",
       "    }\n",
       "\n",
       "    .dataframe tbody tr th {\n",
       "        vertical-align: top;\n",
       "    }\n",
       "\n",
       "    .dataframe thead th {\n",
       "        text-align: right;\n",
       "    }\n",
       "</style>\n",
       "<table border=\"1\" class=\"dataframe\">\n",
       "  <thead>\n",
       "    <tr style=\"text-align: right;\">\n",
       "      <th></th>\n",
       "      <th>Name</th>\n",
       "      <th>MC_USD_Billion</th>\n",
       "    </tr>\n",
       "  </thead>\n",
       "  <tbody>\n",
       "    <tr>\n",
       "      <th>0</th>\n",
       "      <td>JPMorgan Chase</td>\n",
       "      <td>432.92</td>\n",
       "    </tr>\n",
       "    <tr>\n",
       "      <th>1</th>\n",
       "      <td>Bank of America</td>\n",
       "      <td>231.52</td>\n",
       "    </tr>\n",
       "    <tr>\n",
       "      <th>2</th>\n",
       "      <td>Industrial and Commercial Bank of China</td>\n",
       "      <td>194.56</td>\n",
       "    </tr>\n",
       "    <tr>\n",
       "      <th>3</th>\n",
       "      <td>Agricultural Bank of China</td>\n",
       "      <td>160.68</td>\n",
       "    </tr>\n",
       "    <tr>\n",
       "      <th>4</th>\n",
       "      <td>HDFC Bank</td>\n",
       "      <td>157.91</td>\n",
       "    </tr>\n",
       "    <tr>\n",
       "      <th>5</th>\n",
       "      <td>Wells Fargo</td>\n",
       "      <td>155.87</td>\n",
       "    </tr>\n",
       "    <tr>\n",
       "      <th>6</th>\n",
       "      <td>HSBC Holdings PLC</td>\n",
       "      <td>148.90</td>\n",
       "    </tr>\n",
       "    <tr>\n",
       "      <th>7</th>\n",
       "      <td>Morgan Stanley</td>\n",
       "      <td>140.83</td>\n",
       "    </tr>\n",
       "    <tr>\n",
       "      <th>8</th>\n",
       "      <td>China Construction Bank</td>\n",
       "      <td>139.82</td>\n",
       "    </tr>\n",
       "    <tr>\n",
       "      <th>9</th>\n",
       "      <td>Bank of China</td>\n",
       "      <td>136.81</td>\n",
       "    </tr>\n",
       "  </tbody>\n",
       "</table>\n",
       "</div>"
      ],
      "text/plain": [
       "                                      Name MC_USD_Billion\n",
       "0                           JPMorgan Chase         432.92\n",
       "1                          Bank of America         231.52\n",
       "2  Industrial and Commercial Bank of China         194.56\n",
       "3               Agricultural Bank of China         160.68\n",
       "4                                HDFC Bank         157.91\n",
       "5                              Wells Fargo         155.87\n",
       "6                        HSBC Holdings PLC         148.90\n",
       "7                           Morgan Stanley         140.83\n",
       "8                  China Construction Bank         139.82\n",
       "9                            Bank of China         136.81"
      ]
     },
     "execution_count": 35,
     "metadata": {},
     "output_type": "execute_result"
    }
   ],
   "source": [
    "banks_df"
   ]
  },
  {
   "cell_type": "markdown",
   "metadata": {},
   "source": [
    "## Task 3"
   ]
  },
  {
   "cell_type": "code",
   "execution_count": 28,
   "metadata": {},
   "outputs": [],
   "source": [
    "def transform(df):\n",
    "    market_cap_list = [float(x) for x in df['MC_USD_Billion'].to_list()] # convert from str to float\n",
    "    format_str = \"MC_{}_Billion\"\n",
    "    for key, value in rate_dict.items():\n",
    "        df[format_str.format(key)] = [np.round(x * value, 2) for x in  market_cap_list]\n",
    "    return df"
   ]
  },
  {
   "cell_type": "code",
   "execution_count": 36,
   "metadata": {},
   "outputs": [
    {
     "data": {
      "text/html": [
       "<div>\n",
       "<style scoped>\n",
       "    .dataframe tbody tr th:only-of-type {\n",
       "        vertical-align: middle;\n",
       "    }\n",
       "\n",
       "    .dataframe tbody tr th {\n",
       "        vertical-align: top;\n",
       "    }\n",
       "\n",
       "    .dataframe thead th {\n",
       "        text-align: right;\n",
       "    }\n",
       "</style>\n",
       "<table border=\"1\" class=\"dataframe\">\n",
       "  <thead>\n",
       "    <tr style=\"text-align: right;\">\n",
       "      <th></th>\n",
       "      <th>Name</th>\n",
       "      <th>MC_USD_Billion</th>\n",
       "      <th>MC_EUR_Billion</th>\n",
       "      <th>MC_GBP_Billion</th>\n",
       "      <th>MC_INR_Billion</th>\n",
       "    </tr>\n",
       "  </thead>\n",
       "  <tbody>\n",
       "    <tr>\n",
       "      <th>0</th>\n",
       "      <td>JPMorgan Chase</td>\n",
       "      <td>432.92</td>\n",
       "      <td>402.62</td>\n",
       "      <td>346.34</td>\n",
       "      <td>35910.71</td>\n",
       "    </tr>\n",
       "    <tr>\n",
       "      <th>1</th>\n",
       "      <td>Bank of America</td>\n",
       "      <td>231.52</td>\n",
       "      <td>215.31</td>\n",
       "      <td>185.22</td>\n",
       "      <td>19204.58</td>\n",
       "    </tr>\n",
       "    <tr>\n",
       "      <th>2</th>\n",
       "      <td>Industrial and Commercial Bank of China</td>\n",
       "      <td>194.56</td>\n",
       "      <td>180.94</td>\n",
       "      <td>155.65</td>\n",
       "      <td>16138.75</td>\n",
       "    </tr>\n",
       "    <tr>\n",
       "      <th>3</th>\n",
       "      <td>Agricultural Bank of China</td>\n",
       "      <td>160.68</td>\n",
       "      <td>149.43</td>\n",
       "      <td>128.54</td>\n",
       "      <td>13328.41</td>\n",
       "    </tr>\n",
       "    <tr>\n",
       "      <th>4</th>\n",
       "      <td>HDFC Bank</td>\n",
       "      <td>157.91</td>\n",
       "      <td>146.86</td>\n",
       "      <td>126.33</td>\n",
       "      <td>13098.63</td>\n",
       "    </tr>\n",
       "    <tr>\n",
       "      <th>5</th>\n",
       "      <td>Wells Fargo</td>\n",
       "      <td>155.87</td>\n",
       "      <td>144.96</td>\n",
       "      <td>124.70</td>\n",
       "      <td>12929.42</td>\n",
       "    </tr>\n",
       "    <tr>\n",
       "      <th>6</th>\n",
       "      <td>HSBC Holdings PLC</td>\n",
       "      <td>148.90</td>\n",
       "      <td>138.48</td>\n",
       "      <td>119.12</td>\n",
       "      <td>12351.26</td>\n",
       "    </tr>\n",
       "    <tr>\n",
       "      <th>7</th>\n",
       "      <td>Morgan Stanley</td>\n",
       "      <td>140.83</td>\n",
       "      <td>130.97</td>\n",
       "      <td>112.66</td>\n",
       "      <td>11681.85</td>\n",
       "    </tr>\n",
       "    <tr>\n",
       "      <th>8</th>\n",
       "      <td>China Construction Bank</td>\n",
       "      <td>139.82</td>\n",
       "      <td>130.03</td>\n",
       "      <td>111.86</td>\n",
       "      <td>11598.07</td>\n",
       "    </tr>\n",
       "    <tr>\n",
       "      <th>9</th>\n",
       "      <td>Bank of China</td>\n",
       "      <td>136.81</td>\n",
       "      <td>127.23</td>\n",
       "      <td>109.45</td>\n",
       "      <td>11348.39</td>\n",
       "    </tr>\n",
       "  </tbody>\n",
       "</table>\n",
       "</div>"
      ],
      "text/plain": [
       "                                      Name MC_USD_Billion  MC_EUR_Billion  \\\n",
       "0                           JPMorgan Chase         432.92          402.62   \n",
       "1                          Bank of America         231.52          215.31   \n",
       "2  Industrial and Commercial Bank of China         194.56          180.94   \n",
       "3               Agricultural Bank of China         160.68          149.43   \n",
       "4                                HDFC Bank         157.91          146.86   \n",
       "5                              Wells Fargo         155.87          144.96   \n",
       "6                        HSBC Holdings PLC         148.90          138.48   \n",
       "7                           Morgan Stanley         140.83          130.97   \n",
       "8                  China Construction Bank         139.82          130.03   \n",
       "9                            Bank of China         136.81          127.23   \n",
       "\n",
       "   MC_GBP_Billion  MC_INR_Billion  \n",
       "0          346.34        35910.71  \n",
       "1          185.22        19204.58  \n",
       "2          155.65        16138.75  \n",
       "3          128.54        13328.41  \n",
       "4          126.33        13098.63  \n",
       "5          124.70        12929.42  \n",
       "6          119.12        12351.26  \n",
       "7          112.66        11681.85  \n",
       "8          111.86        11598.07  \n",
       "9          109.45        11348.39  "
      ]
     },
     "execution_count": 36,
     "metadata": {},
     "output_type": "execute_result"
    }
   ],
   "source": [
    "banks_df = transform(banks_df)\n",
    "banks_df"
   ]
  },
  {
   "cell_type": "markdown",
   "metadata": {},
   "source": [
    "## Task 4"
   ]
  },
  {
   "cell_type": "code",
   "execution_count": 29,
   "metadata": {},
   "outputs": [],
   "source": [
    "def load_to_csv(df, csv_path):\n",
    "    df.to_csv(csv_path)"
   ]
  },
  {
   "cell_type": "markdown",
   "metadata": {},
   "source": [
    "## Task 5"
   ]
  },
  {
   "cell_type": "code",
   "execution_count": 30,
   "metadata": {},
   "outputs": [],
   "source": [
    "def load_to_db(df, sql_connection):\n",
    "    df.to_sql(table_name, sql_connection, if_exists='replace', index=False)"
   ]
  },
  {
   "cell_type": "markdown",
   "metadata": {},
   "source": [
    "## Task 6"
   ]
  },
  {
   "cell_type": "code",
   "execution_count": 31,
   "metadata": {},
   "outputs": [],
   "source": [
    "def run_query(query_statement, sql_connection):\n",
    "    print(query_statement)\n",
    "    query_output = pd.read_sql(query_statement, sql_connection)\n",
    "    print(query_output)"
   ]
  },
  {
   "cell_type": "markdown",
   "metadata": {},
   "source": [
    "## Task 7"
   ]
  },
  {
   "cell_type": "code",
   "execution_count": 32,
   "metadata": {},
   "outputs": [
    {
     "name": "stdout",
     "output_type": "stream",
     "text": [
      "   Name MC_USD_Billion\n",
      "0   SEP            Oct\n",
      "1    08               \n",
      "2  2023           2024\n"
     ]
    },
    {
     "ename": "ValueError",
     "evalue": "could not convert string to float: 'Oct'",
     "output_type": "error",
     "traceback": [
      "\u001b[1;31m---------------------------------------------------------------------------\u001b[0m",
      "\u001b[1;31mValueError\u001b[0m                                Traceback (most recent call last)",
      "Cell \u001b[1;32mIn[32], line 9\u001b[0m\n\u001b[0;32m      5\u001b[0m log_progress(\u001b[38;5;124m\"\u001b[39m\u001b[38;5;124mData Extracted Completely, ready for tranformation.\u001b[39m\u001b[38;5;124m\"\u001b[39m)\n\u001b[0;32m      7\u001b[0m \u001b[38;5;28mprint\u001b[39m(banks_df)\n\u001b[1;32m----> 9\u001b[0m banks_df \u001b[38;5;241m=\u001b[39m \u001b[43mtransform\u001b[49m\u001b[43m(\u001b[49m\u001b[43mbanks_df\u001b[49m\u001b[43m)\u001b[49m\n\u001b[0;32m     10\u001b[0m log_progress(\u001b[38;5;124m\"\u001b[39m\u001b[38;5;124mData Transformated Completely, loading to csv.\u001b[39m\u001b[38;5;124m\"\u001b[39m)\n\u001b[0;32m     12\u001b[0m load_to_csv(banks_df, csv_path)\n",
      "Cell \u001b[1;32mIn[28], line 2\u001b[0m, in \u001b[0;36mtransform\u001b[1;34m(df)\u001b[0m\n\u001b[0;32m      1\u001b[0m \u001b[38;5;28;01mdef\u001b[39;00m \u001b[38;5;21mtransform\u001b[39m(df):\n\u001b[1;32m----> 2\u001b[0m     market_cap_list \u001b[38;5;241m=\u001b[39m [\u001b[38;5;28mfloat\u001b[39m(x) \u001b[38;5;28;01mfor\u001b[39;00m x \u001b[38;5;129;01min\u001b[39;00m df[\u001b[38;5;124m'\u001b[39m\u001b[38;5;124mMC_USD_Billion\u001b[39m\u001b[38;5;124m'\u001b[39m]\u001b[38;5;241m.\u001b[39mto_list()] \u001b[38;5;66;03m# convert from str to float\u001b[39;00m\n\u001b[0;32m      3\u001b[0m     format_str \u001b[38;5;241m=\u001b[39m \u001b[38;5;124m\"\u001b[39m\u001b[38;5;124mMC_\u001b[39m\u001b[38;5;132;01m{}\u001b[39;00m\u001b[38;5;124m_Billion\u001b[39m\u001b[38;5;124m\"\u001b[39m\n\u001b[0;32m      4\u001b[0m     \u001b[38;5;28;01mfor\u001b[39;00m key, value \u001b[38;5;129;01min\u001b[39;00m rate_dict\u001b[38;5;241m.\u001b[39mitems():\n",
      "Cell \u001b[1;32mIn[28], line 2\u001b[0m, in \u001b[0;36m<listcomp>\u001b[1;34m(.0)\u001b[0m\n\u001b[0;32m      1\u001b[0m \u001b[38;5;28;01mdef\u001b[39;00m \u001b[38;5;21mtransform\u001b[39m(df):\n\u001b[1;32m----> 2\u001b[0m     market_cap_list \u001b[38;5;241m=\u001b[39m [\u001b[38;5;28;43mfloat\u001b[39;49m\u001b[43m(\u001b[49m\u001b[43mx\u001b[49m\u001b[43m)\u001b[49m \u001b[38;5;28;01mfor\u001b[39;00m x \u001b[38;5;129;01min\u001b[39;00m df[\u001b[38;5;124m'\u001b[39m\u001b[38;5;124mMC_USD_Billion\u001b[39m\u001b[38;5;124m'\u001b[39m]\u001b[38;5;241m.\u001b[39mto_list()] \u001b[38;5;66;03m# convert from str to float\u001b[39;00m\n\u001b[0;32m      3\u001b[0m     format_str \u001b[38;5;241m=\u001b[39m \u001b[38;5;124m\"\u001b[39m\u001b[38;5;124mMC_\u001b[39m\u001b[38;5;132;01m{}\u001b[39;00m\u001b[38;5;124m_Billion\u001b[39m\u001b[38;5;124m\"\u001b[39m\n\u001b[0;32m      4\u001b[0m     \u001b[38;5;28;01mfor\u001b[39;00m key, value \u001b[38;5;129;01min\u001b[39;00m rate_dict\u001b[38;5;241m.\u001b[39mitems():\n",
      "\u001b[1;31mValueError\u001b[0m: could not convert string to float: 'Oct'"
     ]
    }
   ],
   "source": [
    "sql_connection = sqlite3.connect(db_name)\n",
    "log_progress(\"Connected to Database! Ready for process.\")\n",
    "\n",
    "banks_df = extract(url, table_attbts_extract)\n",
    "log_progress(\"Data Extracted Completely, ready for tranformation.\")\n",
    "\n",
    "print(banks_df)\n",
    "\n",
    "banks_df = transform(banks_df)\n",
    "log_progress(\"Data Transformated Completely, loading to csv.\")\n",
    "\n",
    "load_to_csv(banks_df, csv_path)\n",
    "log_progress(\"Loaded to csv, loading to database.\")\n",
    "\n",
    "load_to_db(banks_df, sql_connection)\n",
    "log_progress(\"Data Loading Succesfully, loading query statement.\")\n",
    "\n",
    "sql_statement = f\"SELECT * FROM {table_name} WHERE MC_USD_Billion > 150\"\n",
    "run_query(sql_statement, sql_connection)\n",
    "\n",
    "log_progress(\"Process End.\")\n",
    "\n",
    "sql_connection.close()"
   ]
  },
  {
   "cell_type": "code",
   "execution_count": null,
   "metadata": {},
   "outputs": [
    {
     "name": "stdout",
     "output_type": "stream",
     "text": [
      "SELECT AVG(MC_GBP_Billion) FROM Largest_banks\n",
      "   AVG(MC_GBP_Billion)\n",
      "0              151.987\n"
     ]
    }
   ],
   "source": [
    "sql_connection = sqlite3.connect(db_name)\n",
    "statement = f\"SELECT AVG(MC_GBP_Billion) FROM Largest_banks\"\n",
    "run_query(statement, sql_connection)"
   ]
  }
 ],
 "metadata": {
  "kernelspec": {
   "display_name": "tf-gpu",
   "language": "python",
   "name": "python3"
  },
  "language_info": {
   "codemirror_mode": {
    "name": "ipython",
    "version": 3
   },
   "file_extension": ".py",
   "mimetype": "text/x-python",
   "name": "python",
   "nbconvert_exporter": "python",
   "pygments_lexer": "ipython3",
   "version": "3.10.14"
  }
 },
 "nbformat": 4,
 "nbformat_minor": 2
}
